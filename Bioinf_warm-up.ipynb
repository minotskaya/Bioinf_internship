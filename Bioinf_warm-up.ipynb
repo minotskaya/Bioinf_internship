{
 "cells": [
  {
   "cell_type": "markdown",
   "metadata": {},
   "source": [
    "### Problem 1: Finding a Motif in DNA "
   ]
  },
  {
   "cell_type": "code",
   "execution_count": 1,
   "metadata": {},
   "outputs": [],
   "source": [
    "def subseq_appearance(s, t):\n",
    "    '''Finds all locations of t as a substring of s'''\n",
    "    idxs = []\n",
    "    for i in range(0, len(s)-len(t)):  # not the most efficient algorith\n",
    "        if s[i:i+len(t)] == t:\n",
    "            idxs.append(str(i))\n",
    "    return ' '.join(idxs)"
   ]
  },
  {
   "cell_type": "markdown",
   "metadata": {},
   "source": [
    "Example"
   ]
  },
  {
   "cell_type": "code",
   "execution_count": 2,
   "metadata": {},
   "outputs": [
    {
     "data": {
      "text/plain": [
       "'1 3 9'"
      ]
     },
     "execution_count": 2,
     "metadata": {},
     "output_type": "execute_result"
    }
   ],
   "source": [
    "seq = 'GATATATGCATATACTT'\n",
    "subseq = 'ATAT'\n",
    "subseq_appearance(seq, subseq)"
   ]
  },
  {
   "cell_type": "markdown",
   "metadata": {},
   "source": [
    "### Problem 2: Genome Assembly with Perfect Coverage"
   ]
  },
  {
   "cell_type": "code",
   "execution_count": 17,
   "metadata": {},
   "outputs": [],
   "source": [
    "def merge_overlaps(str_list):\n",
    "    \n",
    "    '''Finds and merges strings with max overlap among given strings.\n",
    "    Returns a new list of strings: merged + left untouched'''\n",
    "    \n",
    "    max_len = -1\n",
    "    \n",
    "    for i in range(len(str_list)): #prefix index\n",
    "        other_indxs = [n for n in range(len(str_list)) if n != i] \n",
    "        for j in other_indxs:  #suffix index\n",
    "            pref = str_list[i]\n",
    "            suf = str_list[j]\n",
    "            \n",
    "            k = 0              #finds the max overlap\n",
    "            while pref[k:] != suf[0:len(pref[k:])]:\n",
    "                k += 1      \n",
    "                \n",
    "            if len(pref) - k > max_len:    #store the max overlap length and corresponding indicies\n",
    "                max_len = len(pref) - k\n",
    "                max_indxs = [i, j]\n",
    "\n",
    "    return [str_list[l] for l in range(len(str_list)) if l not in max_indxs] + [str_list[max_indxs[0]] + str_list[max_indxs[1]][max_len:]]\n",
    "\n",
    "def make_a_superstring(str_list):\n",
    "    '''Returns a superstring from given list of strings'''\n",
    "    \n",
    "    while len(str_list) > 1:\n",
    "        str_list = merge_overlaps(str_list)\n",
    "\n",
    "    return str_list[0]"
   ]
  },
  {
   "cell_type": "markdown",
   "metadata": {},
   "source": [
    "Example"
   ]
  },
  {
   "cell_type": "code",
   "execution_count": 21,
   "metadata": {},
   "outputs": [
    {
     "data": {
      "text/plain": [
       "'GATTACAGATT'"
      ]
     },
     "execution_count": 21,
     "metadata": {},
     "output_type": "execute_result"
    }
   ],
   "source": [
    "strings = ['ATTAC', 'TACAG', 'GATTA', 'ACAGA', 'CAGAT', 'TTACA', 'AGATT']\n",
    "make_a_superstring(strings)"
   ]
  },
  {
   "cell_type": "markdown",
   "metadata": {},
   "source": [
    "### Problem 3: Bellman-Ford Algorithm "
   ]
  },
  {
   "cell_type": "code",
   "execution_count": 36,
   "metadata": {},
   "outputs": [],
   "source": [
    "def Bellman_Ford_algo(graph, src):\n",
    "    \n",
    "    '''Computes single-source shortest distances in a directed graph.\n",
    "    Returns a list of lengths of shortest paths from vertex 1 to the vertex i'''\n",
    "    \n",
    "    #Prepare the distance for each node\n",
    "    INF = None\n",
    "    \n",
    "    def _collect_edges(graph):\n",
    "        from itertools import product\n",
    "\n",
    "        result = []\n",
    "        for (u, v) in product(range(len(graph)), range(len(graph))):\n",
    "            if graph[u][v] != 0:\n",
    "                result.append((u, v))\n",
    "        return result\n",
    "\n",
    "\n",
    "    dist = [INF for _ in graph]\n",
    "    dist[src] = 0\n",
    "\n",
    "    edges = _collect_edges(graph)\n",
    "    \n",
    "    #Relax the edges\n",
    "    for _ in range(len(graph) - 1):\n",
    "        for u, v in edges:\n",
    "            if (dist[u] is not INF and\n",
    "                    (dist[v] is INF or dist[v] > dist[u] + graph[u][v])):\n",
    "                dist[v] = dist[u] + graph[u][v]\n",
    " \n",
    "    return dist\n",
    "\n",
    "def print_result(row_res):\n",
    "\n",
    "    for l in row_res:\n",
    "        to_print = l if (l is not None) else 'x'\n",
    "        print(to_print, end=' ')"
   ]
  },
  {
   "cell_type": "markdown",
   "metadata": {},
   "source": [
    "Example"
   ]
  },
  {
   "cell_type": "code",
   "execution_count": 22,
   "metadata": {},
   "outputs": [],
   "source": [
    "with open('test_g.txt') as f:\n",
    "            line = f.readline()\n",
    "            n, m = [int(x.strip()) for x in line.strip().split()]\n",
    "            graph = [[0 for _ in range(n)] for _ in range(n)]\n",
    "            for line in f:\n",
    "                i, j, w = [int(x.strip()) for x in line.strip().split()]\n",
    "                graph[i - 1][j - 1] = w"
   ]
  },
  {
   "cell_type": "code",
   "execution_count": 37,
   "metadata": {},
   "outputs": [],
   "source": [
    "row_res = Bellman_Ford_algo(graph, 0)"
   ]
  },
  {
   "cell_type": "code",
   "execution_count": 38,
   "metadata": {},
   "outputs": [
    {
     "name": "stdout",
     "output_type": "stream",
     "text": [
      "0 5 5 6 9 7 9 8 x "
     ]
    }
   ],
   "source": [
    "print_result(row_res)"
   ]
  },
  {
   "cell_type": "markdown",
   "metadata": {},
   "source": [
    "### Problem 5: Quick Sort"
   ]
  },
  {
   "cell_type": "code",
   "execution_count": 41,
   "metadata": {},
   "outputs": [],
   "source": [
    "def quicksort(arr):\n",
    "    import random\n",
    "    if len(arr) <= 1:\n",
    "        return arr\n",
    "    else:\n",
    "        q = random.choice(arr)\n",
    "    l_nums = [n for n in arr if n < q]\n",
    " \n",
    "    e_nums = [q] * arr.count(q)\n",
    "    b_nums = [n for n in arr if n > q]\n",
    "    return quicksort(l_nums) + e_nums + quicksort(b_nums)"
   ]
  },
  {
   "cell_type": "markdown",
   "metadata": {},
   "source": [
    "Example"
   ]
  },
  {
   "cell_type": "code",
   "execution_count": 42,
   "metadata": {},
   "outputs": [
    {
     "data": {
      "text/plain": [
       "[-10, -2, 4, 5, 7, 8, 11]"
      ]
     },
     "execution_count": 42,
     "metadata": {},
     "output_type": "execute_result"
    }
   ],
   "source": [
    "a = [5, -2, 4, 7, 8, -10, 11]\n",
    "quicksort(a)"
   ]
  }
 ],
 "metadata": {
  "kernelspec": {
   "display_name": "Python 3",
   "language": "python",
   "name": "python3"
  },
  "language_info": {
   "codemirror_mode": {
    "name": "ipython",
    "version": 3
   },
   "file_extension": ".py",
   "mimetype": "text/x-python",
   "name": "python",
   "nbconvert_exporter": "python",
   "pygments_lexer": "ipython3",
   "version": "3.7.1"
  }
 },
 "nbformat": 4,
 "nbformat_minor": 2
}
